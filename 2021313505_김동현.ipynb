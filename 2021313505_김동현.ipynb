{
  "nbformat": 4,
  "nbformat_minor": 0,
  "metadata": {
    "colab": {
      "provenance": []
    },
    "kernelspec": {
      "name": "python3",
      "display_name": "Python 3"
    },
    "language_info": {
      "name": "python"
    }
  },
  "cells": [
    {
      "cell_type": "markdown",
      "source": [
        "## Task\n",
        "- Complete **isHappy** function following the description below\n",
        "\n",
        "### Happy Number\n",
        "Write an algorithm to determine if a number **n** is happy.\n",
        "\n",
        "A **happy number** is a number defined by the following process:\n",
        "\n",
        "* Starting with any positive integer, replace the number by the sum of the squares of its digits.\n",
        "* Repeat the process until the number equals 1 (where it will stay), or it **loops endlessly in a cycle** which does not include 1.\n",
        "* Those numbers for which this process **ends in 1** are happy.\n",
        "\n",
        "Return **true** if n is a happy number, and **false** if not.\n",
        "\n",
        "Constraints:\n",
        "1 <= n <= $2^{31}$ - 1"
      ],
      "metadata": {
        "id": "TV3Socqg8BVl"
      }
    },
    {
      "cell_type": "code",
      "execution_count": 27,
      "metadata": {
        "id": "5FcxitVf5kdQ",
        "colab": {
          "base_uri": "https://localhost:8080/"
        },
        "outputId": "d0126334-1ef3-4a75-cee1-17c3a5dcb245"
      },
      "outputs": [
        {
          "output_type": "stream",
          "name": "stdout",
          "text": [
            "True\n"
          ]
        }
      ],
      "source": [
        "\"\"\"\n",
        "해피넘버 구하기\n",
        "무한반복이 나오면 해피넘버가 아닌 것\n",
        "나오는 숫자들을 리스트(prev_nums)에 저장하고 나왔던 숫자가 또나오는 지 확인\n",
        "1이 될때까지 반복\n",
        "\n",
        "반복되는 연산:\n",
        "각 자리수(last_digit)의 제곱값을 더해서 sum에 저장\n",
        "\"\"\"\n",
        "\n",
        "def isHappy(n):\n",
        "  prev_nums = list()\n",
        "  prev_nums.append(n)\n",
        "\n",
        "  while n != 1 :\n",
        "    sum = 0\n",
        "    tmp = n\n",
        "    while tmp > 0 :\n",
        "      last_digit = tmp % 10\n",
        "      sum = sum + last_digit * last_digit\n",
        "      tmp = tmp // 10\n",
        "\n",
        "    if sum not in prev_nums :\n",
        "      prev_nums.append(sum)\n",
        "      n = sum\n",
        "      tmp = n\n",
        "    else :\n",
        "      return False\n",
        "\n",
        "  return True"
      ]
    },
    {
      "cell_type": "markdown",
      "source": [
        "**Testcase 1.**\n",
        "\n",
        "**Input**: 19\n",
        "\n",
        "**Output**: True\n",
        "\n",
        "**Explanation**:\n",
        "\n",
        "$1^2 + 9^2 = 82$\n",
        "\n",
        "$8^2 + 2^2 = 68$\n",
        "\n",
        "$6^2 + 8^2 = 100$\n",
        "\n",
        "$1^2 + 0^2 + 0^2 = 1$"
      ],
      "metadata": {
        "id": "eRrh24Ognrqf"
      }
    },
    {
      "cell_type": "markdown",
      "source": [
        "**Testcase 2.**\n",
        "\n",
        "**Input**: 2\n",
        "\n",
        "**Output**: False"
      ],
      "metadata": {
        "id": "dE7YMY8qoPoj"
      }
    }
  ]
}